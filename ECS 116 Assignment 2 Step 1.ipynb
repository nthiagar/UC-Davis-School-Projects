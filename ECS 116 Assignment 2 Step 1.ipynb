{
 "cells": [
  {
   "cell_type": "code",
   "execution_count": 1,
   "id": "95f93dd1-ff00-43c5-9078-0389823cd180",
   "metadata": {},
   "outputs": [],
   "source": [
    "import sys\n",
    "import json\n",
    "import csv\n",
    "import yaml\n",
    "\n",
    "import pandas as pd\n",
    "import numpy as np\n",
    "\n",
    "import datetime;\n",
    "\n",
    "import matplotlib as mpl\n",
    "\n",
    "import time\n",
    "from datetime import datetime\n",
    "\n",
    "import pprint\n",
    "\n",
    "import os\n",
    "from dotenv import load_dotenv\n",
    "\n",
    "import psycopg2\n",
    "from sqlalchemy import create_engine, text as sql_text"
   ]
  },
  {
   "cell_type": "code",
   "execution_count": 2,
   "id": "dc3a54dd-1f66-49a0-8b71-2af48d5b83a0",
   "metadata": {},
   "outputs": [
    {
     "data": {
      "text/plain": [
       "True"
      ]
     },
     "execution_count": 2,
     "metadata": {},
     "output_type": "execute_result"
    }
   ],
   "source": [
    "dotenv_path = 'variables.env'\n",
    "load_dotenv(dotenv_path=dotenv_path)"
   ]
  },
  {
   "cell_type": "code",
   "execution_count": 3,
   "id": "c6c0fdbc-6bb6-4030-9c25-387afd6558e8",
   "metadata": {},
   "outputs": [],
   "source": [
    "\n",
    "load_dotenv()\n",
    "\n",
    "schema = os.getenv('DISC_4_SCHEMA')\n",
    "port = os.getenv('DISC_4_PORT')\n",
    "host = os.getenv('DISC_4_HOST')\n",
    "database = os.getenv('DISC_4_DB')\n",
    "username = os.getenv('username')\n",
    "password = os.getenv('password')"
   ]
  },
  {
   "cell_type": "code",
   "execution_count": 4,
   "id": "d5407db4-7997-4c28-ad58-75dac05faded",
   "metadata": {},
   "outputs": [
    {
     "name": "stdout",
     "output_type": "stream",
     "text": [
      "Successfully created db engine.\n"
     ]
    }
   ],
   "source": [
    "db_eng = create_engine(f\"postgresql+psycopg2://{username}:{password}@{host}:{port}/{database}\",\n",
    "                       connect_args={'options': '-csearch_path={}'.format(f\"{schema}\")},\n",
    "                       isolation_level = 'SERIALIZABLE')\n",
    "\n",
    "print(\"Successfully created db engine.\")"
   ]
  },
  {
   "cell_type": "code",
   "execution_count": 5,
   "id": "0d603f2e-6ac3-46a3-b0ba-b0a5d6f78322",
   "metadata": {},
   "outputs": [],
   "source": [
    "sys.path.append('/Users/Nfaith21/Documents/ECS 116 - Misc/DISC_5_FILES/benchmarking/')\n",
    "import util_actual_main as util"
   ]
  },
  {
   "cell_type": "markdown",
   "id": "84939d9f-b7d4-4006-8e9c-90ff950840dd",
   "metadata": {},
   "source": [
    "# Step 3a - listings_join_reviews.json"
   ]
  },
  {
   "cell_type": "code",
   "execution_count": 6,
   "id": "18409a13-abb7-4fd9-ab60-d7f9b58443f4",
   "metadata": {},
   "outputs": [],
   "source": [
    "new_dict = {}\n",
    "\n",
    "years = ['2009', '2010', '2011', '2012', '2013', '2014', '2015', '2016', '2017', '2018', '2019', '2020', '2021', '2022', '2023', '2024']\n",
    "for year in years:\n",
    "    new_dict['q_listings_join_reviews_'+year] = util.build_query_listings_join_reviews_datetime(year+'-01-01 12:00:00.000', year+'-12-31 12:00:00.000')\n"
   ]
  },
  {
   "cell_type": "code",
   "execution_count": null,
   "id": "728cb364-23a6-407b-86c4-fe1259322415",
   "metadata": {},
   "outputs": [],
   "source": [
    "all_perf_details = {}\n",
    "\n",
    "all_indexes = [['datetime','reviews'], ['id','listings']] \n",
    "\n",
    "\n",
    "index_combinations = [\n",
    "    [],\n",
    "    [['datetime', 'reviews']],\n",
    "    [['id', 'listings']],\n",
    "    [['datetime', 'reviews'], ['id', 'listings']]\n",
    "]\n",
    "\n",
    "count = 50\n",
    "\n",
    "for query_name, query in new_dict.items():\n",
    "    print('Processing query:', query_name)\n",
    "\n",
    "    query_perf_details = {}\n",
    "\n",
    "    for spec in index_combinations:\n",
    "        spec_name = util.build_index_description_key(all_indexes, spec) if spec else '__'\n",
    "\n",
    "        print('Processing spec:', spec_name)\n",
    "\n",
    "        for index in all_indexes:\n",
    "            if index not in spec:\n",
    "                mod_index = util.add_drop_index(db_eng, 'drop', index[0], index[1])\n",
    "\n",
    "        for index in spec:\n",
    "            mod_index = util.add_drop_index(db_eng, 'add', index[0], index[1])\n",
    "\n",
    "        perf_details = util.calc_time_diff_per_year(db_eng, count, {query_name: query})\n",
    "\n",
    "        query_perf_details[spec_name] = perf_details[query_name]\n",
    "\n",
    "    all_perf_details[query_name] = query_perf_details\n",
    "    print('Finished processing query:', query_name, '\\n')\n",
    "\n",
    "util.write_perf_data(all_perf_details, 'listings_join_reviews.json')\n"
   ]
  },
  {
   "cell_type": "code",
   "execution_count": null,
   "id": "ce711a69-1d1d-4efe-8328-b9d40e93b8ef",
   "metadata": {},
   "outputs": [],
   "source": [
    "  q5 = \"\"\"\n",
    "SELECT CAST(EXTRACT(YEAR FROM datetime) AS INTEGER) AS year, COUNT(*) AS review_count\n",
    "FROM reviews\n",
    "group by year;\n",
    "\"\"\"\n",
    "with db_eng.connect() as conn:\n",
    "    result_reviews = conn.execute(sql_text(q5))\n",
    "    print()\n",
    "    print(result_reviews.all())\n"
   ]
  },
  {
   "cell_type": "markdown",
   "id": "12ff3d06-a044-481b-a910-040c99b4a5d0",
   "metadata": {},
   "source": [
    "# Step 3b plots - text_search_query.json"
   ]
  },
  {
   "cell_type": "code",
   "execution_count": null,
   "id": "65004692-206d-4c3c-9ff1-29efa2378a4f",
   "metadata": {},
   "outputs": [],
   "source": [
    "text_search_dict = {}\n",
    "words = ['apartment','awesome','horrible']\n",
    "years = ['2009', '2010', '2011', '2012', '2013', '2014', '2017', '2019', '2023']\n",
    "\n",
    "for word in words:\n",
    "    for year in years:\n",
    "        text_search_dict[word+'_'+year] = util.text_search(db_eng, year+'-01-01 12:00:00.000',year+'-12-31 12:00:00.000',word, 50)\n",
    "text_search_dict\n",
    "util.write_perf_data(text_search_dict, 'text_search_query.json')"
   ]
  },
  {
   "cell_type": "markdown",
   "id": "c62ffd6f-3364-4a33-93ae-3f5a25e30ddd",
   "metadata": {},
   "source": [
    "# Step 3c plots - update_datetimes_query.json"
   ]
  },
  {
   "cell_type": "code",
   "execution_count": null,
   "id": "0e8aaece-c0c1-4dcc-9fde-4778dbd79a2f",
   "metadata": {},
   "outputs": [],
   "source": [
    "# neighborhoods and indexes\n",
    "neighbourhoods = ['New Springville', 'Fort Hamilton', 'Long Island City', 'Bedford-Stuyvesant']\n",
    "neighbourhoods_all_indexes = [['datetime','reviews'], ['neighbourhood','listings']]\n",
    "\n",
    "neighborhoods_q_dict = {}\n",
    "\n",
    "for nb in neighbourhoods:\n",
    "    neighborhoods_q_dict[f'update_datetimes_query_{nb}'] = (util.build_query_reviews_datetime_update(5, '+', 'neighbourhood', nb), util.build_query_reviews_datetime_update(5, '-', 'neighbourhood', nb))"
   ]
  },
  {
   "cell_type": "code",
   "execution_count": null,
   "id": "024f989f-f3f2-4164-9486-995a4a7154a4",
   "metadata": {},
   "outputs": [],
   "source": [
    "util.run_update_datetime_query_neighbourhoods(db_eng, 50, neighborhoods_q_dict, neighbourhoods_all_indexes, 'update_datetimes_query.json')"
   ]
  },
  {
   "cell_type": "code",
   "execution_count": null,
   "id": "9e052de6-a861-4406-97d0-ec3320f77704",
   "metadata": {},
   "outputs": [],
   "source": [
    "# neighbourhood_groups and indexes\n",
    "neighbourhood_groups = ['Staten Island', 'Bronx', 'Queens', 'Manhattan']\n",
    "neighborhood_groups_all_indexes = [['datetime','reviews'], ['neighbourhood_group','listings']]\n",
    "\n",
    "neighborhood_groups_q_dict = {}\n",
    "\n",
    "for group in neighbourhood_groups:\n",
    "    neighborhood_groups_q_dict[f'update_datetimes_query_{group}'] = (util.build_query_reviews_datetime_update(5, '+', 'group', group), util.build_query_reviews_datetime_update(5, '-', 'group', group))"
   ]
  },
  {
   "cell_type": "code",
   "execution_count": null,
   "id": "a9b90e46-3d68-45d5-a23e-e80951e7dd38",
   "metadata": {},
   "outputs": [],
   "source": [
    "util.run_update_datetime_query_neighbourhoods(db_eng, 50, neighborhood_groups_q_dict, neighborhood_groups_all_indexes, 'update_datetimes_query.json')"
   ]
  }
 ],
 "metadata": {
  "kernelspec": {
   "display_name": "Python 3 (ipykernel)",
   "language": "python",
   "name": "python3"
  },
  "language_info": {
   "codemirror_mode": {
    "name": "ipython",
    "version": 3
   },
   "file_extension": ".py",
   "mimetype": "text/x-python",
   "name": "python",
   "nbconvert_exporter": "python",
   "pygments_lexer": "ipython3",
   "version": "3.11.7"
  }
 },
 "nbformat": 4,
 "nbformat_minor": 5
}
