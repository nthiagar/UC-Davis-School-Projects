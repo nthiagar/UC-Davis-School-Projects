{
 "cells": [
  {
   "cell_type": "code",
   "execution_count": 1,
   "metadata": {},
   "outputs": [],
   "source": [
    "import sys\n",
    "import json\n",
    "import csv\n",
    "import yaml\n",
    "\n",
    "import os\n",
    "from dotenv import load_dotenv\n",
    "\n",
    "import pandas as pd\n",
    "import numpy as np\n",
    "import math\n",
    "\n",
    "import matplotlib as mpl\n",
    "import matplotlib.pyplot as plt\n",
    "\n",
    "import itertools\n",
    "\n",
    "import time\n",
    "import datetime\n",
    "\n",
    "import pprint\n",
    "\n",
    "import psycopg2\n",
    "from sqlalchemy import create_engine, text as sql_text\n",
    "\n",
    "sys.path.append('/Users/Nfaith21/Documents/ECS 116 - Misc/DISC_5_FILES/benchmarking/')\n",
    "import util_actual_main as util"
   ]
  },
  {
   "cell_type": "code",
   "execution_count": 2,
   "metadata": {},
   "outputs": [
    {
     "data": {
      "text/plain": [
       "True"
      ]
     },
     "execution_count": 2,
     "metadata": {},
     "output_type": "execute_result"
    }
   ],
   "source": [
    "dotenv_path = 'variables.env'\n",
    "load_dotenv(dotenv_path=dotenv_path)"
   ]
  },
  {
   "cell_type": "code",
   "execution_count": 3,
   "metadata": {},
   "outputs": [],
   "source": [
    "\n",
    "load_dotenv()\n",
    "\n",
    "schema = os.getenv('DISC_4_SCHEMA')\n",
    "port = os.getenv('DISC_4_PORT')\n",
    "host = os.getenv('DISC_4_HOST')\n",
    "database = os.getenv('DISC_4_DB')\n",
    "username = os.getenv('username')\n",
    "password = os.getenv('password')"
   ]
  },
  {
   "cell_type": "code",
   "execution_count": 4,
   "metadata": {},
   "outputs": [
    {
     "name": "stdout",
     "output_type": "stream",
     "text": [
      "Successfully created db engine.\n"
     ]
    }
   ],
   "source": [
    "db_eng = create_engine(f\"postgresql+psycopg2://{username}:{password}@{host}:{port}/{database}\",\n",
    "                       connect_args={'options': '-csearch_path={}'.format(f\"{schema}\")},\n",
    "                       isolation_level = 'SERIALIZABLE')\n",
    "\n",
    "print(\"Successfully created db engine.\")"
   ]
  },
  {
   "cell_type": "markdown",
   "metadata": {},
   "source": [
    "# Step 5:"
   ]
  },
  {
   "cell_type": "markdown",
   "metadata": {},
   "source": [
    "# Q3"
   ]
  },
  {
   "cell_type": "code",
   "execution_count": 5,
   "metadata": {},
   "outputs": [],
   "source": [
    "def rename_keys(d):\n",
    "    return {k.split('_')[-1] : v for k, v in d.items()}\n",
    "\n",
    "def extract_value(data, val):\n",
    "    values = {}\n",
    "    for year, details in data.items():\n",
    "        values[year] = {}\n",
    "        for key, metrics in details.items():\n",
    "            if val in metrics:\n",
    "                values[year][key] = metrics[val]\n",
    "    return values"
   ]
  },
  {
   "cell_type": "code",
   "execution_count": 6,
   "metadata": {},
   "outputs": [],
   "source": [
    "data_update_datetimes = util.fetch_perf_data('update_datetimes_query.json')"
   ]
  },
  {
   "cell_type": "code",
   "execution_count": 7,
   "metadata": {},
   "outputs": [],
   "source": [
    "axis_order = ['New Springville', 'Fort Hamilton', 'Long Island City', 'Bedford-Stuyvesant', 'Staten Island', 'Bronx', 'Queens', 'Manhattan']\n",
    "renamed_data_update_datetimes = rename_keys(data_update_datetimes)\n",
    "update_datetimes_avg = extract_value(renamed_data_update_datetimes, 'avg')\n",
    "update_datetimes_avg_df = pd.DataFrame(update_datetimes_avg).T\n",
    "update_datetimes_avg_df = update_datetimes_avg_df.reindex(axis_order)\n",
    "update_datetimes_avg_df.rename(columns = {\"__\": \"no_index\",\n",
    "    \"__datetime_in_reviews__\": \"datetime_index\",\n",
    "    \"__neigh_in_listings__\": \"neigh_index\",\n",
    "    \"__datetime_in_reviews__neigh_in_listings__\": \"datetime_and_neigh_index\"}\n",
    "    , inplace = True)"
   ]
  },
  {
   "cell_type": "code",
   "execution_count": 8,
   "metadata": {},
   "outputs": [],
   "source": [
    "update_datetimes_avg_df['Difference'] = update_datetimes_avg_df['datetime_and_neigh_index'] - update_datetimes_avg_df['no_index']"
   ]
  },
  {
   "cell_type": "code",
   "execution_count": 9,
   "metadata": {},
   "outputs": [
    {
     "data": {
      "text/html": [
       "<div>\n",
       "<style scoped>\n",
       "    .dataframe tbody tr th:only-of-type {\n",
       "        vertical-align: middle;\n",
       "    }\n",
       "\n",
       "    .dataframe tbody tr th {\n",
       "        vertical-align: top;\n",
       "    }\n",
       "\n",
       "    .dataframe thead th {\n",
       "        text-align: right;\n",
       "    }\n",
       "</style>\n",
       "<table border=\"1\" class=\"dataframe\">\n",
       "  <thead>\n",
       "    <tr style=\"text-align: right;\">\n",
       "      <th></th>\n",
       "      <th>Difference</th>\n",
       "    </tr>\n",
       "  </thead>\n",
       "  <tbody>\n",
       "    <tr>\n",
       "      <th>Staten Island</th>\n",
       "      <td>-1.8522</td>\n",
       "    </tr>\n",
       "    <tr>\n",
       "      <th>New Springville</th>\n",
       "      <td>-0.7633</td>\n",
       "    </tr>\n",
       "    <tr>\n",
       "      <th>Fort Hamilton</th>\n",
       "      <td>-0.2123</td>\n",
       "    </tr>\n",
       "    <tr>\n",
       "      <th>Long Island City</th>\n",
       "      <td>-0.1407</td>\n",
       "    </tr>\n",
       "    <tr>\n",
       "      <th>Queens</th>\n",
       "      <td>1.8179</td>\n",
       "    </tr>\n",
       "    <tr>\n",
       "      <th>Bronx</th>\n",
       "      <td>2.9361</td>\n",
       "    </tr>\n",
       "    <tr>\n",
       "      <th>Bedford-Stuyvesant</th>\n",
       "      <td>12.5671</td>\n",
       "    </tr>\n",
       "    <tr>\n",
       "      <th>Manhattan</th>\n",
       "      <td>46.2367</td>\n",
       "    </tr>\n",
       "  </tbody>\n",
       "</table>\n",
       "</div>"
      ],
      "text/plain": [
       "                    Difference\n",
       "Staten Island          -1.8522\n",
       "New Springville        -0.7633\n",
       "Fort Hamilton          -0.2123\n",
       "Long Island City       -0.1407\n",
       "Queens                  1.8179\n",
       "Bronx                   2.9361\n",
       "Bedford-Stuyvesant     12.5671\n",
       "Manhattan              46.2367"
      ]
     },
     "execution_count": 9,
     "metadata": {},
     "output_type": "execute_result"
    }
   ],
   "source": [
    "df_diff = pd.DataFrame(update_datetimes_avg_df['Difference'].sort_values())\n",
    "df_diff"
   ]
  },
  {
   "cell_type": "code",
   "execution_count": 10,
   "metadata": {},
   "outputs": [],
   "source": [
    "query = \"\"\"select l.neighbourhood as loc, count(*)\n",
    "from reviews r, listings l\n",
    "where l.id = r.listing_id\n",
    " and l.neighbourhood in ('New Springville', 'Fort Hamilton', 'Long Island City', 'Bedford-Stuyvesant')\n",
    "group by loc\n",
    "union\n",
    "select l.neighbourhood_group as loc, count(*)\n",
    "from reviews r, listings l\n",
    "where l.id = r.listing_id\n",
    " and l.neighbourhood_group in ('Staten Island', 'Bronx', 'Queens', 'Manhattan')\n",
    "group by loc\n",
    "order by count;\"\"\"\n",
    "\n",
    "with db_eng.connect() as conn:\n",
    "    df_records = pd.read_sql_query(sql_text(query), conn)"
   ]
  },
  {
   "cell_type": "code",
   "execution_count": 11,
   "metadata": {},
   "outputs": [
    {
     "data": {
      "text/html": [
       "<div>\n",
       "<style scoped>\n",
       "    .dataframe tbody tr th:only-of-type {\n",
       "        vertical-align: middle;\n",
       "    }\n",
       "\n",
       "    .dataframe tbody tr th {\n",
       "        vertical-align: top;\n",
       "    }\n",
       "\n",
       "    .dataframe thead th {\n",
       "        text-align: right;\n",
       "    }\n",
       "</style>\n",
       "<table border=\"1\" class=\"dataframe\">\n",
       "  <thead>\n",
       "    <tr style=\"text-align: right;\">\n",
       "      <th></th>\n",
       "      <th>count</th>\n",
       "    </tr>\n",
       "    <tr>\n",
       "      <th>loc</th>\n",
       "      <th></th>\n",
       "    </tr>\n",
       "  </thead>\n",
       "  <tbody>\n",
       "    <tr>\n",
       "      <th>New Springville</th>\n",
       "      <td>104</td>\n",
       "    </tr>\n",
       "    <tr>\n",
       "      <th>Fort Hamilton</th>\n",
       "      <td>1000</td>\n",
       "    </tr>\n",
       "    <tr>\n",
       "      <th>Long Island City</th>\n",
       "      <td>10859</td>\n",
       "    </tr>\n",
       "    <tr>\n",
       "      <th>Staten Island</th>\n",
       "      <td>13726</td>\n",
       "    </tr>\n",
       "    <tr>\n",
       "      <th>Bronx</th>\n",
       "      <td>35296</td>\n",
       "    </tr>\n",
       "    <tr>\n",
       "      <th>Bedford-Stuyvesant</th>\n",
       "      <td>99705</td>\n",
       "    </tr>\n",
       "    <tr>\n",
       "      <th>Queens</th>\n",
       "      <td>173392</td>\n",
       "    </tr>\n",
       "    <tr>\n",
       "      <th>Manhattan</th>\n",
       "      <td>341287</td>\n",
       "    </tr>\n",
       "  </tbody>\n",
       "</table>\n",
       "</div>"
      ],
      "text/plain": [
       "                     count\n",
       "loc                       \n",
       "New Springville        104\n",
       "Fort Hamilton         1000\n",
       "Long Island City     10859\n",
       "Staten Island        13726\n",
       "Bronx                35296\n",
       "Bedford-Stuyvesant   99705\n",
       "Queens              173392\n",
       "Manhattan           341287"
      ]
     },
     "execution_count": 11,
     "metadata": {},
     "output_type": "execute_result"
    }
   ],
   "source": [
    "df_records.index = df_records['loc']\n",
    "df_records.drop(columns = 'loc', inplace = True)\n",
    "df_records"
   ]
  },
  {
   "cell_type": "code",
   "execution_count": 12,
   "metadata": {},
   "outputs": [
    {
     "data": {
      "text/html": [
       "<div>\n",
       "<style scoped>\n",
       "    .dataframe tbody tr th:only-of-type {\n",
       "        vertical-align: middle;\n",
       "    }\n",
       "\n",
       "    .dataframe tbody tr th {\n",
       "        vertical-align: top;\n",
       "    }\n",
       "\n",
       "    .dataframe thead th {\n",
       "        text-align: right;\n",
       "    }\n",
       "</style>\n",
       "<table border=\"1\" class=\"dataframe\">\n",
       "  <thead>\n",
       "    <tr style=\"text-align: right;\">\n",
       "      <th></th>\n",
       "      <th>count</th>\n",
       "      <th>Difference</th>\n",
       "    </tr>\n",
       "  </thead>\n",
       "  <tbody>\n",
       "    <tr>\n",
       "      <th>New Springville</th>\n",
       "      <td>104</td>\n",
       "      <td>-0.7633</td>\n",
       "    </tr>\n",
       "    <tr>\n",
       "      <th>Fort Hamilton</th>\n",
       "      <td>1000</td>\n",
       "      <td>-0.2123</td>\n",
       "    </tr>\n",
       "    <tr>\n",
       "      <th>Long Island City</th>\n",
       "      <td>10859</td>\n",
       "      <td>-0.1407</td>\n",
       "    </tr>\n",
       "    <tr>\n",
       "      <th>Staten Island</th>\n",
       "      <td>13726</td>\n",
       "      <td>-1.8522</td>\n",
       "    </tr>\n",
       "    <tr>\n",
       "      <th>Bronx</th>\n",
       "      <td>35296</td>\n",
       "      <td>2.9361</td>\n",
       "    </tr>\n",
       "    <tr>\n",
       "      <th>Bedford-Stuyvesant</th>\n",
       "      <td>99705</td>\n",
       "      <td>12.5671</td>\n",
       "    </tr>\n",
       "    <tr>\n",
       "      <th>Queens</th>\n",
       "      <td>173392</td>\n",
       "      <td>1.8179</td>\n",
       "    </tr>\n",
       "    <tr>\n",
       "      <th>Manhattan</th>\n",
       "      <td>341287</td>\n",
       "      <td>46.2367</td>\n",
       "    </tr>\n",
       "  </tbody>\n",
       "</table>\n",
       "</div>"
      ],
      "text/plain": [
       "                     count  Difference\n",
       "New Springville        104     -0.7633\n",
       "Fort Hamilton         1000     -0.2123\n",
       "Long Island City     10859     -0.1407\n",
       "Staten Island        13726     -1.8522\n",
       "Bronx                35296      2.9361\n",
       "Bedford-Stuyvesant   99705     12.5671\n",
       "Queens              173392      1.8179\n",
       "Manhattan           341287     46.2367"
      ]
     },
     "execution_count": 12,
     "metadata": {},
     "output_type": "execute_result"
    }
   ],
   "source": [
    "pd.concat([df_records, df_diff], axis=1)"
   ]
  },
  {
   "cell_type": "markdown",
   "metadata": {},
   "source": [
    "# Q4"
   ]
  },
  {
   "cell_type": "code",
   "execution_count": 13,
   "metadata": {},
   "outputs": [],
   "source": [
    "data_listings = util.fetch_perf_data('listings_join_reviews.json')\n",
    "data_listings = data_listings['q_listings_join_reviews_2019']\n",
    "\n",
    "data_listings_no_index = data_listings['__']\n",
    "data_listings_index = data_listings['__datetime_in_reviews__']\n",
    "\n",
    "data_listings_no_index_avg = data_listings_no_index['avg']\n",
    "data_listings_index_avg = data_listings_index['avg']"
   ]
  },
  {
   "cell_type": "code",
   "execution_count": 14,
   "metadata": {},
   "outputs": [
    {
     "data": {
      "text/plain": [
       "(2.9472, 0.2215)"
      ]
     },
     "execution_count": 14,
     "metadata": {},
     "output_type": "execute_result"
    }
   ],
   "source": [
    "data_listings_no_index_avg, data_listings_index_avg"
   ]
  },
  {
   "cell_type": "code",
   "execution_count": 15,
   "metadata": {},
   "outputs": [
    {
     "name": "stdout",
     "output_type": "stream",
     "text": [
      "Query: time saved by using index: 2.726 seconds\n"
     ]
    }
   ],
   "source": [
    "# time saved by using index for 1 query\n",
    "query_time_saved = data_listings_no_index_avg - data_listings_index_avg\n",
    "print(f\"Query: time saved by using index: {query_time_saved:.3f} seconds\")"
   ]
  },
  {
   "cell_type": "code",
   "execution_count": 16,
   "metadata": {},
   "outputs": [
    {
     "name": "stdout",
     "output_type": "stream",
     "text": [
      "Query: time saved by using index for 1000 queries: 45 minutes 25.70 seconds\n"
     ]
    }
   ],
   "source": [
    "# time saved by using index for 1000 queries\n",
    "query_time_saved_1000 = query_time_saved * 1000\n",
    "# convert to minutes and second\n",
    "minutes = query_time_saved_1000 // 60\n",
    "seconds = query_time_saved_1000 % 60\n",
    "print(f\"Query: time saved by using index for 1000 queries: {minutes:.0f} minutes {seconds:.2f} seconds\")"
   ]
  },
  {
   "cell_type": "code",
   "execution_count": 17,
   "metadata": {},
   "outputs": [],
   "source": [
    "data_update_manhattan = data_update_datetimes['update_datetimes_query_Manhattan']\n",
    "\n",
    "data_update_no_index = data_update_manhattan['__']\n",
    "data_update_index = data_update_manhattan['__datetime_in_reviews__']\n",
    "\n",
    "data_update_no_index_avg = data_update_no_index['avg']\n",
    "data_update_index_avg = data_update_index['avg']"
   ]
  },
  {
   "cell_type": "code",
   "execution_count": 18,
   "metadata": {},
   "outputs": [
    {
     "data": {
      "text/plain": [
       "(68.0796, 116.6993)"
      ]
     },
     "execution_count": 18,
     "metadata": {},
     "output_type": "execute_result"
    }
   ],
   "source": [
    "data_update_no_index_avg, data_update_index_avg"
   ]
  },
  {
   "cell_type": "code",
   "execution_count": 19,
   "metadata": {},
   "outputs": [
    {
     "name": "stdout",
     "output_type": "stream",
     "text": [
      "Update: time lost by using index: 48.6197 seconds\n"
     ]
    }
   ],
   "source": [
    "# time lost by using index for 1 update\n",
    "update_time_lost = data_update_index_avg - data_update_no_index_avg\n",
    "print(f\"Update: time lost by using index: {update_time_lost:.4f} seconds\")"
   ]
  },
  {
   "cell_type": "code",
   "execution_count": 20,
   "metadata": {},
   "outputs": [
    {
     "name": "stdout",
     "output_type": "stream",
     "text": [
      "Update: time lost by using index for 1000 updates: 13 hours, 30 minutes, 19.7 seconds\n"
     ]
    }
   ],
   "source": [
    "# time lost by using index for 1000 updates\n",
    "update_time_lost_1000 = update_time_lost * 1000\n",
    "# convert seconds to hours: mintues: seconds\n",
    "hours = update_time_lost_1000 // 3600\n",
    "minutes = (update_time_lost_1000 % 3600) // 60\n",
    "seconds = update_time_lost_1000 % 60\n",
    "print(f\"Update: time lost by using index for 1000 updates: {hours:.0f} hours, {minutes:.0f} minutes, {seconds:.1f} seconds\")"
   ]
  },
  {
   "cell_type": "code",
   "execution_count": 21,
   "metadata": {},
   "outputs": [
    {
     "name": "stdout",
     "output_type": "stream",
     "text": [
      "x = 0.9469\n"
     ]
    }
   ],
   "source": [
    "x = update_time_lost / (query_time_saved + update_time_lost)\n",
    "print(f'x = {x:.4f}')"
   ]
  }
 ],
 "metadata": {
  "kernelspec": {
   "display_name": "Python 3 (ipykernel)",
   "language": "python",
   "name": "python3"
  },
  "language_info": {
   "codemirror_mode": {
    "name": "ipython",
    "version": 3
   },
   "file_extension": ".py",
   "mimetype": "text/x-python",
   "name": "python",
   "nbconvert_exporter": "python",
   "pygments_lexer": "ipython3",
   "version": "3.11.7"
  }
 },
 "nbformat": 4,
 "nbformat_minor": 4
}
