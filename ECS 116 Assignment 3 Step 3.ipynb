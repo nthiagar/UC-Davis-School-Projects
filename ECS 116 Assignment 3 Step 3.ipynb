{
 "cells": [
  {
   "cell_type": "code",
   "execution_count": 6,
   "id": "a68c7f36-e5e9-4a3a-ad72-95e44012abe3",
   "metadata": {},
   "outputs": [],
   "source": [
    "import sys\n",
    "import json\n",
    "import csv\n",
    "import yaml\n",
    "\n",
    "import importlib\n",
    "\n",
    "import pandas as pd\n",
    "import numpy as np\n",
    "\n",
    "import matplotlib as mpl\n",
    "import matplotlib.pyplot as plt\n",
    "import os\n",
    "from dotenv import load_dotenv\n",
    "\n",
    "from datetime import time\n",
    "from datetime import date\n",
    "from datetime import datetime\n",
    "# with the above choices, the imported datetime.time(2023,07,01) is recognized\n",
    "# from datetime import date\n",
    "# from datetime import datetime\n",
    "\n",
    "import pprint\n",
    "\n",
    "import psycopg2\n",
    "from sqlalchemy import create_engine, text as sql_text\n",
    "\n",
    "# Create an utilities file util.py in a folder benchmarking and import it\n",
    "sys.path.append('/Users/Nfaith21/ECS 116/')\n",
    "import util_2 as util"
   ]
  },
  {
   "cell_type": "markdown",
   "id": "91b6ebfa-f97a-4f27-b896-8fec02a46f0a",
   "metadata": {},
   "source": [
    "<span style=color:blue>Getting mongodb connection set up</span>"
   ]
  },
  {
   "cell_type": "code",
   "execution_count": 7,
   "id": "f9bd4324-7d32-49c5-abe6-649fb3899618",
   "metadata": {},
   "outputs": [],
   "source": [
    "from pymongo import MongoClient\n",
    "\n",
    "client = MongoClient()\n",
    "# could have written client = MongoClient(\"localhost\", 27017)\n",
    "#                 or client = MongoClient(\"mongodb://localhost:27017/\")"
   ]
  },
  {
   "cell_type": "markdown",
   "id": "11bdfa8a-48fd-494c-b58c-1af3d41a2057",
   "metadata": {},
   "source": [
    "<span style=color:blue>Getting access to airbnb database"
   ]
  },
  {
   "cell_type": "code",
   "execution_count": 8,
   "id": "73169714-363a-48db-ba75-cb506790cbec",
   "metadata": {},
   "outputs": [
    {
     "name": "stdout",
     "output_type": "stream",
     "text": [
      "The list of all databases currently in the MongoDB client is:\n",
      "['admin', 'airbnb', 'company', 'config', 'local', 'test']\n",
      "\n",
      "The list of all collections in the airbnb database is:\n",
      "['newlistings', 'listings', 'listings_with_reviews_m', 'listings_with_reviews_and_cal', 'calendar', 'listings_with_calendar', 'reviews']\n"
     ]
    }
   ],
   "source": [
    "# I have (or will have) a database \"airbnb\"\n",
    "db = client.airbnb\n",
    "\n",
    "\n",
    "print('The list of all databases currently in the MongoDB client is:')\n",
    "print(client.list_database_names())\n",
    "\n",
    "print('\\nThe list of all collections in the airbnb database is:')\n",
    "print(db.list_collection_names())\n",
    "# Note: calendar may not show up yet; it is created only when a first document is inserted into it"
   ]
  },
  {
   "cell_type": "markdown",
   "id": "bd5fee20-266a-4d06-8175-4d494275dd14",
   "metadata": {},
   "source": [
    "### Datatypes Conversion and Clean up"
   ]
  },
  {
   "cell_type": "code",
   "execution_count": 9,
   "id": "f7e1ab69-270d-448a-abee-62b60cdeb745",
   "metadata": {},
   "outputs": [],
   "source": [
    "f = '/Users/Nfaith21/Library/CloudStorage/GoogleDrive-nishafaith21@gmail.com/My Drive/UC Davis/Spring Quarter 2024/ECS 116/listings_202406060150.csv'\n",
    "f2 = '/Users/Nfaith21/ECS 116/reviews.csv'\n",
    "\n",
    "dtype = {\"id\":str, \"host_id\":str}\n",
    "dtype2 = {\"date\": str, \"listing_id\":str, \"id\":str, \"reviewer_id\":str}\n",
    "\n",
    "df = pd.read_csv(f, dtype=dtype, keep_default_na=False)\n",
    "df2 = pd.read_csv(f2, dtype=dtype2, keep_default_na=False)\n",
    "\n",
    "df['reviews_per_month'] = pd.to_numeric(df['reviews_per_month'], errors='coerce')"
   ]
  },
  {
   "cell_type": "code",
   "execution_count": 31,
   "id": "a29d504a-475f-45ee-8cde-cfddb7ea4b97",
   "metadata": {},
   "outputs": [
    {
     "name": "stdout",
     "output_type": "stream",
     "text": [
      "The datatypes for the fields of df are:\n",
      "id                                 object\n",
      "name                               object\n",
      "host_id                            object\n",
      "host_name                          object\n",
      "neighbourhood_group                object\n",
      "neighbourhood                      object\n",
      "latitude                          float64\n",
      "longitude                         float64\n",
      "room_type                          object\n",
      "price                              object\n",
      "minimum_nights                      int64\n",
      "number_of_reviews                   int64\n",
      "last_review                        object\n",
      "reviews_per_month                 float64\n",
      "calculated_host_listings_count      int64\n",
      "availability_365                    int64\n",
      "number_of_reviews_ltm               int64\n",
      "license                            object\n",
      "dtype: object\n",
      "\n",
      "The first few rows of df are:\n",
      "                   id                                               name  \\\n",
      "0  977395984065981849      Home in Brooklyn · 1 bedroom · 1 bed · 1 bath   \n",
      "1  729947657876634696  Rental unit in The Bronx · 1 bedroom · 1 bed ·...   \n",
      "2  648033676238017128  Rental unit in Bronx · ★4.89 · 1 bedroom · 1 b...   \n",
      "3  623137142536549768  Rental unit in Brooklyn · 1 bedroom · 1 bed · ...   \n",
      "4  871990853610302281  Rental unit in Queens · ★New · 1 bedroom · Hal...   \n",
      "\n",
      "     host_id        host_name neighbourhood_group   neighbourhood   latitude  \\\n",
      "0   95344065            Derek            Brooklyn  Sheepshead Bay  40.591790   \n",
      "1     566660           Markus               Bronx        Longwood  40.827374   \n",
      "2  421601513  J Carlos Retals               Bronx     Kingsbridge  40.863940   \n",
      "3  106442885              Ava            Brooklyn   East New York  40.660730   \n",
      "4  484563208           Tricia              Queens    Howard Beach  40.663586   \n",
      "\n",
      "   longitude        room_type price  minimum_nights  number_of_reviews  \\\n",
      "0 -73.942850     Private room    30              31                  1   \n",
      "1 -73.903145     Private room    29              30                  2   \n",
      "2 -73.903120     Private room    30              30                 18   \n",
      "3 -73.890500  Entire home/apt    76              30                  1   \n",
      "4 -73.834530     Private room    85              30                  0   \n",
      "\n",
      "  last_review  reviews_per_month  calculated_host_listings_count  \\\n",
      "0      1/3/24               0.86                               7   \n",
      "1    12/31/23               0.14                               2   \n",
      "2    12/26/23               0.95                               3   \n",
      "3     5/19/22               0.05                               1   \n",
      "4                            NaN                               2   \n",
      "\n",
      "   availability_365  number_of_reviews_ltm license  \n",
      "0               339                      1          \n",
      "1                34                      1          \n",
      "2               359                      6          \n",
      "3               364                      0          \n",
      "4                89                      0          \n",
      "The datatypes for the fields of df are:\n",
      "listing_id       object\n",
      "id               object\n",
      "date             object\n",
      "reviewer_id      object\n",
      "reviewer_name    object\n",
      "comments         object\n",
      "dtype: object\n",
      "\n",
      "The first few rows of df are:\n",
      "  listing_id     id        date reviewer_id reviewer_name  \\\n",
      "0       2595  17857  2009-11-21       50679          Jean   \n",
      "1       2595  19176  2009-12-05       53267          Cate   \n",
      "2       2595  19760  2009-12-10       38960         Anita   \n",
      "3       2595  34320  2010-04-09       71130       Kai-Uwe   \n",
      "4       2595  46312  2010-05-25      117113        Alicia   \n",
      "\n",
      "                                            comments  \n",
      "0  Notre séjour de trois nuits.\\r<br/>Nous avons ...  \n",
      "1                                  Great experience.  \n",
      "2  I've stayed with my friend at the Midtown Cast...  \n",
      "3  We've been staying here for about 9 nights, en...  \n",
      "4  We had a wonderful stay at Jennifer's charming...  \n"
     ]
    }
   ],
   "source": [
    "print('The datatypes for the fields of df are:')\n",
    "print(df.dtypes)\n",
    "\n",
    "print('\\nThe first few rows of df are:')\n",
    "print(df.head())\n",
    "\n",
    "print('The datatypes for the fields of df are:')\n",
    "print(df2.dtypes)\n",
    "\n",
    "print('\\nThe first few rows of df are:')\n",
    "print(df2.head())\n"
   ]
  },
  {
   "cell_type": "markdown",
   "id": "39cc2555-9e6c-4f63-b451-d8b817dfc113",
   "metadata": {},
   "source": [
    "### Convert to Datetime and Remove NaTs"
   ]
  },
  {
   "cell_type": "code",
   "execution_count": 32,
   "id": "6cdbdbcd-0226-4af4-8f3b-904b48359238",
   "metadata": {},
   "outputs": [
    {
     "name": "stdout",
     "output_type": "stream",
     "text": [
      "2024-05-23 00:00:00\n"
     ]
    }
   ],
   "source": [
    "# also converts NaT to None, because MongoDB does not recognize NaT\n",
    "def convert_date_str_to_datetime(dt):\n",
    "    if dt is None:\n",
    "        return None\n",
    "    elif pd.isnull(dt):  # tests whether dt is the pandas value NaT (\"not a time\")\n",
    "        # print('\\nEntered the NaT case\\n')\n",
    "        return None\n",
    "    elif dt != dt:\n",
    "        return None        # could also use math.nan, I think\n",
    "    elif dt == '':\n",
    "        return None\n",
    "    else:\n",
    "        year = int(dt[0:4])\n",
    "        month = int(dt[5:7])\n",
    "        day = int(dt[8:10])\n",
    "        # print(year, month, day)\n",
    "        temp = datetime(year, month, day)\n",
    "        ts = temp.timestamp()\n",
    "        new_dt = datetime.fromtimestamp(ts)\n",
    "        return new_dt\n",
    "\n",
    "\n",
    "print(convert_date_str_to_datetime('2024-05-23'))"
   ]
  },
  {
   "cell_type": "code",
   "execution_count": 33,
   "id": "13867450-d217-4570-a378-ce68dd3d1095",
   "metadata": {},
   "outputs": [
    {
     "name": "stdout",
     "output_type": "stream",
     "text": [
      "  listing_id     id       date reviewer_id reviewer_name  \\\n",
      "0       2595  17857 2009-11-21       50679          Jean   \n",
      "1       2595  19176 2009-12-05       53267          Cate   \n",
      "2       2595  19760 2009-12-10       38960         Anita   \n",
      "3       2595  34320 2010-04-09       71130       Kai-Uwe   \n",
      "4       2595  46312 2010-05-25      117113        Alicia   \n",
      "\n",
      "                                            comments  \n",
      "0  Notre séjour de trois nuits.\\r<br/>Nous avons ...  \n",
      "1                                  Great experience.  \n",
      "2  I've stayed with my friend at the Midtown Cast...  \n",
      "3  We've been staying here for about 9 nights, en...  \n",
      "4  We had a wonderful stay at Jennifer's charming...  \n"
     ]
    }
   ],
   "source": [
    "df2['date'] = df2['date'].apply(convert_date_str_to_datetime)\n",
    "\n",
    "print(df2.head())"
   ]
  },
  {
   "cell_type": "code",
   "execution_count": 34,
   "id": "f7509054-324a-4dcc-b421-d1bbdaab9a79",
   "metadata": {},
   "outputs": [
    {
     "name": "stdout",
     "output_type": "stream",
     "text": [
      "<class 'numpy.float64'>\n",
      "                   id                                               name  \\\n",
      "0  977395984065981849      Home in Brooklyn · 1 bedroom · 1 bed · 1 bath   \n",
      "1  729947657876634696  Rental unit in The Bronx · 1 bedroom · 1 bed ·...   \n",
      "2  648033676238017128  Rental unit in Bronx · ★4.89 · 1 bedroom · 1 b...   \n",
      "3  623137142536549768  Rental unit in Brooklyn · 1 bedroom · 1 bed · ...   \n",
      "4  871990853610302281  Rental unit in Queens · ★New · 1 bedroom · Hal...   \n",
      "\n",
      "     host_id        host_name neighbourhood_group   neighbourhood   latitude  \\\n",
      "0   95344065            Derek            Brooklyn  Sheepshead Bay  40.591790   \n",
      "1     566660           Markus               Bronx        Longwood  40.827374   \n",
      "2  421601513  J Carlos Retals               Bronx     Kingsbridge  40.863940   \n",
      "3  106442885              Ava            Brooklyn   East New York  40.660730   \n",
      "4  484563208           Tricia              Queens    Howard Beach  40.663586   \n",
      "\n",
      "   longitude        room_type  price  minimum_nights  number_of_reviews  \\\n",
      "0 -73.942850     Private room   30.0              31                  1   \n",
      "1 -73.903145     Private room   29.0              30                  2   \n",
      "2 -73.903120     Private room   30.0              30                 18   \n",
      "3 -73.890500  Entire home/apt   76.0              30                  1   \n",
      "4 -73.834530     Private room   85.0              30                  0   \n",
      "\n",
      "  last_review  reviews_per_month  calculated_host_listings_count  \\\n",
      "0      1/3/24               0.86                               7   \n",
      "1    12/31/23               0.14                               2   \n",
      "2    12/26/23               0.95                               3   \n",
      "3     5/19/22               0.05                               1   \n",
      "4                            NaN                               2   \n",
      "\n",
      "   availability_365  number_of_reviews_ltm license  \n",
      "0               339                      1          \n",
      "1                34                      1          \n",
      "2               359                      6          \n",
      "3               364                      0          \n",
      "4                89                      0          \n"
     ]
    }
   ],
   "source": [
    "# need to strip the leading '$' from the price value, and remove commas\n",
    "df['price'] = df['price'].apply(lambda x:x.replace('$','').replace(',',''))\n",
    "\n",
    "# converting price which is string to numeric\n",
    "df['price'] = pd.to_numeric(df['price']) \n",
    "\n",
    "print(type(df.loc[0,'price']))\n",
    "print(df.head())"
   ]
  },
  {
   "cell_type": "code",
   "execution_count": 35,
   "id": "c0c9889f-286c-45ac-98bf-b4ab43bad361",
   "metadata": {},
   "outputs": [
    {
     "name": "stderr",
     "output_type": "stream",
     "text": [
      "/var/folders/_w/22f9wx1n3w76yhbndn1d2j240000gn/T/ipykernel_63909/4007626723.py:1: UserWarning: Could not infer format, so each element will be parsed individually, falling back to `dateutil`. To ensure parsing is consistent and as-expected, please specify a format.\n",
      "  df['last_review'] = pd.to_datetime(df['last_review'])\n"
     ]
    }
   ],
   "source": [
    "df['last_review'] = pd.to_datetime(df['last_review'])"
   ]
  },
  {
   "cell_type": "markdown",
   "id": "87c81d28-4d02-46f2-8ebd-865c2ca8027e",
   "metadata": {},
   "source": [
    "### Load Data into Dictionaries"
   ]
  },
  {
   "cell_type": "code",
   "execution_count": 36,
   "id": "669f8203-3cec-4635-bae3-db25ab6e74d7",
   "metadata": {},
   "outputs": [],
   "source": [
    "dict_full = df.to_dict('records')\n",
    "\n",
    "def convert_date_to_datetime(dt):\n",
    "    if pd.isnull(dt):           # tests whether dt is None, NaN, or DaT (not a date)\n",
    "        return None\n",
    "    elif type(dt) == pd._libs.tslibs.nattype.NaTType:  # including this, but see below\n",
    "        return None\n",
    "    else:\n",
    "        temp = datetime(dt.year, dt.month, dt.day)\n",
    "        ts = temp.timestamp()\n",
    "        new_dt = datetime.fromtimestamp(ts)\n",
    "        return new_dt\n",
    "\n",
    "for record in dict_full:\n",
    "    record['last_review'] = convert_date_to_datetime(record['last_review'])\n",
    "\n",
    "for doc in dict_full:\n",
    "    if pd.isnull(doc['last_review']): \n",
    "        doc['last_review'] = None"
   ]
  },
  {
   "cell_type": "code",
   "execution_count": 37,
   "id": "b5e4dd2e-12c2-4b55-9675-30ccc6c41a1b",
   "metadata": {},
   "outputs": [
    {
     "name": "stdout",
     "output_type": "stream",
     "text": [
      "{'id': '977395984065981849',\n",
      " 'name': 'Home in Brooklyn · 1 bedroom · 1 bed · 1 bath',\n",
      " 'host_id': '95344065',\n",
      " 'host_name': 'Derek',\n",
      " 'neighbourhood_group': 'Brooklyn',\n",
      " 'neighbourhood': 'Sheepshead Bay',\n",
      " 'latitude': 40.59179,\n",
      " 'longitude': -73.94285,\n",
      " 'room_type': 'Private room',\n",
      " 'price': 30.0,\n",
      " 'minimum_nights': 31,\n",
      " 'number_of_reviews': 1,\n",
      " 'last_review': datetime.datetime(2024, 1, 3, 0, 0),\n",
      " 'reviews_per_month': 0.86,\n",
      " 'calculated_host_listings_count': 7,\n",
      " 'availability_365': 339,\n",
      " 'number_of_reviews_ltm': 1,\n",
      " 'license': ''}\n"
     ]
    }
   ],
   "source": [
    "pprint.pp(dict_full[0])"
   ]
  },
  {
   "cell_type": "code",
   "execution_count": 38,
   "id": "c6efd0d2-4961-4084-833c-70fdc19e8f7a",
   "metadata": {},
   "outputs": [
    {
     "name": "stdout",
     "output_type": "stream",
     "text": [
      "Time to perform this operation was 4.219962 seconds.\n"
     ]
    }
   ],
   "source": [
    "time1 = datetime.now()\n",
    "dict_full_2 = df2.to_dict('records')\n",
    "time2 = datetime.now()\n",
    "print(f'Time to perform this operation was {util.time_diff(time1,time2)} seconds.')"
   ]
  },
  {
   "cell_type": "markdown",
   "id": "4d2efdcf-a080-4dc4-ae1f-f354fe73a3e8",
   "metadata": {},
   "source": [
    "### Load Data into MongoDB"
   ]
  },
  {
   "cell_type": "code",
   "execution_count": 39,
   "id": "f2482ffa-ae30-4e21-9744-8f467fb62601",
   "metadata": {},
   "outputs": [
    {
     "name": "stdout",
     "output_type": "stream",
     "text": [
      "39202\n",
      "986810\n",
      "\n",
      "Time to perform this operation was 9.42273 seconds.\n",
      "\n",
      "Number of docs in db.newlistings is 39202\n",
      "\n",
      "Number of docs in db.reviews is 986810\n",
      "\n",
      "[{'_id': ObjectId('6663d3abc6744f44122705cf'),\n",
      "  'id': '795691344180160853',\n",
      "  'name': 'Hotel in New York · ★4.33 · 1 bedroom · 1 bed · 1 private bath',\n",
      "  'host_id': '484277630',\n",
      "  'host_name': 'Bugra Han',\n",
      "  'neighbourhood_group': 'Manhattan',\n",
      "  'neighbourhood': 'Midtown',\n",
      "  'latitude': 40.755077,\n",
      "  'longitude': -73.98106,\n",
      "  'room_type': 'Private room',\n",
      "  'price': nan,\n",
      "  'minimum_nights': 4,\n",
      "  'number_of_reviews': 5,\n",
      "  'last_review': datetime.datetime(2023, 12, 18, 0, 0),\n",
      "  'reviews_per_month': 1.2,\n",
      "  'calculated_host_listings_count': 33,\n",
      "  'availability_365': 0,\n",
      "  'number_of_reviews_ltm': 5,\n",
      "  'license': 'Exempt'},\n",
      " {'_id': ObjectId('6663d3abc6744f44122705d0'),\n",
      "  'id': '942191196511011206',\n",
      "  'name': 'Home in Brooklyn · 5 bedrooms · 5 beds · 2 baths',\n",
      "  'host_id': '517145594',\n",
      "  'host_name': 'Ben',\n",
      "  'neighbourhood_group': 'Brooklyn',\n",
      "  'neighbourhood': 'East Flatbush',\n",
      "  'latitude': 40.65951,\n",
      "  'longitude': -73.93827,\n",
      "  'room_type': 'Entire home/apt',\n",
      "  'price': 200.0,\n",
      "  'minimum_nights': 30,\n",
      "  'number_of_reviews': 2,\n",
      "  'last_review': datetime.datetime(2023, 11, 18, 0, 0),\n",
      "  'reviews_per_month': 0.32,\n",
      "  'calculated_host_listings_count': 5,\n",
      "  'availability_365': 270,\n",
      "  'number_of_reviews_ltm': 2,\n",
      "  'license': ''},\n",
      " {'_id': ObjectId('6663d3abc6744f44122705d1'),\n",
      "  'id': '563728723224510265',\n",
      "  'name': 'Rental unit in Queens · ★4.76 · Studio · 1 bed · 1 bath',\n",
      "  'host_id': '219517861',\n",
      "  'host_name': 'Sonder (NYC)',\n",
      "  'neighbourhood_group': 'Queens',\n",
      "  'neighbourhood': 'Long Island City',\n",
      "  'latitude': 40.74482,\n",
      "  'longitude': -73.94326,\n",
      "  'room_type': 'Entire home/apt',\n",
      "  'price': 218.0,\n",
      "  'minimum_nights': 2,\n",
      "  'number_of_reviews': 214,\n",
      "  'last_review': datetime.datetime(2024, 1, 7, 0, 0),\n",
      "  'reviews_per_month': 8.99,\n",
      "  'calculated_host_listings_count': 84,\n",
      "  'availability_365': 0,\n",
      "  'number_of_reviews_ltm': 102,\n",
      "  'license': 'Exempt'},\n",
      " {'_id': ObjectId('6663d3abc6744f44122705d2'),\n",
      "  'id': '19602390',\n",
      "  'name': 'Rental unit in Brooklyn · ★4.78 · 1 bedroom · 1 bed · 1 bath',\n",
      "  'host_id': '137817563',\n",
      "  'host_name': 'Amarelle',\n",
      "  'neighbourhood_group': 'Brooklyn',\n",
      "  'neighbourhood': 'Bedford-Stuyvesant',\n",
      "  'latitude': 40.68232,\n",
      "  'longitude': -73.93023,\n",
      "  'room_type': 'Entire home/apt',\n",
      "  'price': 106.0,\n",
      "  'minimum_nights': 30,\n",
      "  'number_of_reviews': 140,\n",
      "  'last_review': datetime.datetime(2023, 11, 7, 0, 0),\n",
      "  'reviews_per_month': 1.75,\n",
      "  'calculated_host_listings_count': 1,\n",
      "  'availability_365': 249,\n",
      "  'number_of_reviews_ltm': 15,\n",
      "  'license': ''},\n",
      " {'_id': ObjectId('6663d3abc6744f44122705d3'),\n",
      "  'id': '756650222823891886',\n",
      "  'name': 'Rental unit in Staten Island · ★4.89 · 3 bedrooms · 4 beds · 2 '\n",
      "          'baths',\n",
      "  'host_id': '121399223',\n",
      "  'host_name': 'Weifeng',\n",
      "  'neighbourhood_group': 'Staten Island',\n",
      "  'neighbourhood': 'St. George',\n",
      "  'latitude': 40.64367,\n",
      "  'longitude': -74.08182,\n",
      "  'room_type': 'Entire home/apt',\n",
      "  'price': 189.0,\n",
      "  'minimum_nights': 30,\n",
      "  'number_of_reviews': 44,\n",
      "  'last_review': datetime.datetime(2024, 1, 12, 0, 0),\n",
      "  'reviews_per_month': 2.95,\n",
      "  'calculated_host_listings_count': 6,\n",
      "  'availability_365': 0,\n",
      "  'number_of_reviews_ltm': 38,\n",
      "  'license': ''}]\n",
      "[{'_id': ObjectId('6663d3aec6744f4412361489'),\n",
      "  'listing_id': '1066905373347759013',\n",
      "  'id': '1076164094756359504',\n",
      "  'date': datetime.datetime(2024, 1, 24, 0, 0),\n",
      "  'reviewer_id': '84336263',\n",
      "  'reviewer_name': 'T',\n",
      "  'comments': 'We had a good stay. Place was clean and in a good, central '\n",
      "              'location. It was a good value for the price and worked well for '\n",
      "              'our group of 4 adults.'},\n",
      " {'_id': ObjectId('6663d3aec6744f441236148a'),\n",
      "  'listing_id': '1066905373347759013',\n",
      "  'id': '1079811744368032164',\n",
      "  'date': datetime.datetime(2024, 1, 29, 0, 0),\n",
      "  'reviewer_id': '280434951',\n",
      "  'reviewer_name': 'Saufia',\n",
      "  'comments': 'I recently had the pleasure of staying at this property and we '\n",
      "              'had an amazing experience. The property has been recently '\n",
      "              \"refurbished and cleanliness was remarkable. It's perfect for a \"\n",
      "              \"big group or family, as there's ample space for everyone to \"\n",
      "              'enjoy their stay comfortably. <br/>It has all the essential '\n",
      "              'items you could possibly need, making it feel like a home away '\n",
      "              'from home. The location is ideal, being close to the metro '\n",
      "              'which made it incredibly convenient for us to explore the city. '\n",
      "              'We also enjoyed the easy access to local sightseeing spots and '\n",
      "              'shopping areas.<br/>A special mention to the property manager, '\n",
      "              'who was exceptionally responsive. Any queries were answered '\n",
      "              'swiftly, and they were always happy to help, adding an extra '\n",
      "              'layer of comfort to our stay. <br/>Overall, I highly recommend '\n",
      "              'this property for anyone looking for a hassle-free, '\n",
      "              'comfortable, and enjoyable stay in a great location.'},\n",
      " {'_id': ObjectId('6663d3aec6744f441236148b'),\n",
      "  'listing_id': '1070657277463593193',\n",
      "  'id': '1084815512594078305',\n",
      "  'date': datetime.datetime(2024, 2, 5, 0, 0),\n",
      "  'reviewer_id': '340888377',\n",
      "  'reviewer_name': 'Argelis',\n",
      "  'comments': 'Good Communication and attention... Thanks so Much!'},\n",
      " {'_id': ObjectId('6663d3aec6744f441236148c'),\n",
      "  'listing_id': '1070928457910719744',\n",
      "  'id': '1076904485515107241',\n",
      "  'date': datetime.datetime(2024, 1, 25, 0, 0),\n",
      "  'reviewer_id': '9511025',\n",
      "  'reviewer_name': 'Steven',\n",
      "  'comments': 'This guesthouse is absolutely adorable! It’s located on '\n",
      "              'quintessential Harlem Street. The walk to the train is less '\n",
      "              'than than 10 minutes.  Central Park is about a 15 minute walk.  '\n",
      "              'My host was welcoming and helpful but not intrusive at all.  '\n",
      "              'The guest house has beautiful artwork. The picture definitely '\n",
      "              'don’t do it justice. I feel like I lived a New York dream '\n",
      "              'during my time there! I will definitely be back'},\n",
      " {'_id': ObjectId('6663d3aec6744f441236148d'),\n",
      "  'listing_id': '1070928457910719744',\n",
      "  'id': '1079039094814815797',\n",
      "  'date': datetime.datetime(2024, 1, 28, 0, 0),\n",
      "  'reviewer_id': '557959854',\n",
      "  'reviewer_name': 'Ajuong',\n",
      "  'comments': 'I really had a pleasant stay! The place is clean and quiet. The '\n",
      "              'host is polite and responsive. It is a great place.'}]\n"
     ]
    }
   ],
   "source": [
    "# The following empties out listings_with_cal; useful if making a fresh start\n",
    "db.newlistings.drop()\n",
    "db.reviews.drop()\n",
    "\n",
    "print(len(dict_full))\n",
    "print(len(dict_full_2))\n",
    "\n",
    "time1 = datetime.now()\n",
    "result = db.newlistings.insert_many(dict_full)\n",
    "results2=db.reviews.insert_many(dict_full_2)\n",
    "time2 = datetime.now()\n",
    "print(f'\\nTime to perform this operation was {util.time_diff(time1,time2)} seconds.')\n",
    "# between about 2 and 4 minutes\n",
    "\n",
    "print(f'\\nNumber of docs in db.newlistings is {db.newlistings.count_documents({})}')\n",
    "print(f'\\nNumber of docs in db.reviews is {db.reviews.count_documents({})}')\n",
    "\n",
    "\n",
    "print()\n",
    "outdocs = []\n",
    "for o in result.inserted_ids[-5:]:\n",
    "    outdocs.append(db.newlistings.find_one({ '_id': o}))\n",
    "pprint.pp(outdocs)\n",
    "\n",
    "outdocs2 = []\n",
    "for o in results2.inserted_ids[-5:]:\n",
    "    outdocs2.append(db.reviews.find_one({ '_id': o}))\n",
    "pprint.pp(outdocs2)"
   ]
  },
  {
   "cell_type": "markdown",
   "id": "5f0f4913-8501-4fe3-85ad-2a1fe8bfe763",
   "metadata": {},
   "source": [
    "### Create Index"
   ]
  },
  {
   "cell_type": "code",
   "execution_count": 40,
   "id": "b823ea91-fa82-42c9-afa0-1824e9f16e0c",
   "metadata": {},
   "outputs": [
    {
     "data": {
      "text/plain": [
       "'listing_id_1'"
      ]
     },
     "execution_count": 40,
     "metadata": {},
     "output_type": "execute_result"
    }
   ],
   "source": [
    "db.reviews.create_index('listing_id')"
   ]
  },
  {
   "cell_type": "markdown",
   "id": "44a61068-b91c-4c50-bc54-4ad1c6794b0a",
   "metadata": {},
   "source": [
    "### Creating listings_with_reviews_m Collection"
   ]
  },
  {
   "cell_type": "code",
   "execution_count": 41,
   "id": "71dd5951-bdf5-4ef9-babc-f3b10762ccbd",
   "metadata": {},
   "outputs": [
    {
     "name": "stdout",
     "output_type": "stream",
     "text": [
      "\n",
      "Time it took was: 4.7962 .\n",
      "['newlistings', 'listings', 'listings_with_reviews_m', 'listings_with_reviews_and_cal', 'calendar', 'listings_with_calendar', 'reviews']\n",
      "test1:\n",
      "<class 'pymongo.command_cursor.CommandCursor'>\n"
     ]
    }
   ],
   "source": [
    "db.listings_with_reviews_m.drop()\n",
    "\n",
    "pipeline = [\n",
    "    {\"$lookup\":\n",
    "       {\n",
    "         \"from\": \"reviews\",\n",
    "         \"localField\": \"id\",\n",
    "         \"foreignField\": \"listing_id\",\n",
    "         \"as\": \"reviews\"\n",
    "       }}, \n",
    "    \n",
    "    { \"$out\": \"listings_with_reviews_m\" }\n",
    "    \n",
    "]\n",
    "\n",
    "time1 = datetime.now()\n",
    "test1 = db.newlistings.aggregate(pipeline)\n",
    "time2 = datetime.now()\n",
    "diff = util.time_diff(time1, time2)\n",
    "\n",
    "print('\\nTime it took was:', format(diff, '.4f'), '.')\n",
    "\n",
    "print(db.list_collection_names())\n",
    "\n",
    "print(\"test1:\")\n",
    "\n",
    "# print(len(list(test1)))\n",
    "\n",
    "print(type(test1))\n",
    "\n"
   ]
  },
  {
   "cell_type": "code",
   "execution_count": 50,
   "id": "0c1f14e8-22b1-47f7-a220-40e967b2d206",
   "metadata": {},
   "outputs": [
    {
     "name": "stdout",
     "output_type": "stream",
     "text": [
      "39202\n"
     ]
    }
   ],
   "source": [
    "count = db.listings_with_reviews_m.count_documents({})\n",
    "print(count)"
   ]
  },
  {
   "cell_type": "code",
   "execution_count": 51,
   "id": "ca8557cf-4791-4916-bef9-9fee234907c3",
   "metadata": {},
   "outputs": [
    {
     "name": "stdout",
     "output_type": "stream",
     "text": [
      "{'_id': ObjectId('6663d3abc6744f4412266cb2'),\n",
      " 'id': '977395984065981849',\n",
      " 'name': 'Home in Brooklyn · 1 bedroom · 1 bed · 1 bath',\n",
      " 'host_id': '95344065',\n",
      " 'host_name': 'Derek',\n",
      " 'neighbourhood_group': 'Brooklyn',\n",
      " 'neighbourhood': 'Sheepshead Bay',\n",
      " 'latitude': 40.59179,\n",
      " 'longitude': -73.94285,\n",
      " 'room_type': 'Private room',\n",
      " 'price': 30.0,\n",
      " 'minimum_nights': 31,\n",
      " 'number_of_reviews': 1,\n",
      " 'last_review': datetime.datetime(2024, 1, 3, 0, 0),\n",
      " 'reviews_per_month': 0.86,\n",
      " 'calculated_host_listings_count': 7,\n",
      " 'availability_365': 339,\n",
      " 'number_of_reviews_ltm': 1,\n",
      " 'license': '',\n",
      " 'reviews': [{'_id': ObjectId('6663d3aec6744f44123602e2'),\n",
      "              'listing_id': '977395984065981849',\n",
      "              'id': '1060927930986644037',\n",
      "              'date': datetime.datetime(2024, 1, 3, 0, 0),\n",
      "              'reviewer_id': '56179331',\n",
      "              'reviewer_name': 'Sean',\n",
      "              'comments': 'I fear it’s kind of a “you get what you pay for” '\n",
      "                          'situation. The place is very dirty, especially the '\n",
      "                          'common rooms where the cupboards are caked and '\n",
      "                          'grease and stickiness. To the point that even '\n",
      "                          'opening a drawer or grabbing a handle requires '\n",
      "                          'washing your hands after. The bathroom has moldy '\n",
      "                          'rugs and had cockroaches. There’s occasionally a '\n",
      "                          'smell. The internet is very hit or miss and the '\n",
      "                          'temperature fluxuates a lot in the '\n",
      "                          'apartment.<br/>To their credit though, the bedrooms '\n",
      "                          'are clean enough and pretty comfortable. The floors '\n",
      "                          'a bit dusty but I kinda just dusted that up. The '\n",
      "                          'neighborhood itself is nice if you’re looking for '\n",
      "                          'something that feels quieter than the rest of the '\n",
      "                          'city. I enjoyed having plenty of stores, '\n",
      "                          'restaurants, and even a movie theater in walking '\n",
      "                          'distance while still being on a quiet residential '\n",
      "                          'street. That said, for commuting it does take about '\n",
      "                          'an hour to get to Manhattan.<br/>Like I said, it is '\n",
      "                          'extremelly cheap but that means it’s not '\n",
      "                          'well-maintained; so you get what you pay for.'}]}\n"
     ]
    }
   ],
   "source": [
    "doc = db.listings_with_reviews_m.find_one()\n",
    "pprint.pp(doc)"
   ]
  },
  {
   "cell_type": "markdown",
   "id": "07f52c87-1383-4f38-aaf4-4ed91668448a",
   "metadata": {},
   "source": [
    "### JSON File Loading"
   ]
  },
  {
   "cell_type": "code",
   "execution_count": 52,
   "id": "eb1ecd3b-38fe-43c4-9951-8c9f2268309b",
   "metadata": {},
   "outputs": [
    {
     "name": "stdout",
     "output_type": "stream",
     "text": [
      "{'_id': '6663d3abc6744f4412266cb2',\n",
      " 'id': '977395984065981849',\n",
      " 'name': 'Home in Brooklyn · 1 bedroom · 1 bed · 1 bath',\n",
      " 'host_id': '95344065',\n",
      " 'host_name': 'Derek',\n",
      " 'neighbourhood_group': 'Brooklyn',\n",
      " 'neighbourhood': 'Sheepshead Bay',\n",
      " 'latitude': 40.59179,\n",
      " 'longitude': -73.94285,\n",
      " 'room_type': 'Private room',\n",
      " 'price': 30.0,\n",
      " 'minimum_nights': 31,\n",
      " 'number_of_reviews': 1,\n",
      " 'last_review': '2024-01-03',\n",
      " 'reviews_per_month': 0.86,\n",
      " 'calculated_host_listings_count': 7,\n",
      " 'availability_365': 339,\n",
      " 'number_of_reviews_ltm': 1,\n",
      " 'license': '',\n",
      " 'reviews': [{'_id': '6663d3aec6744f44123602e2',\n",
      "              'date': '2024-01-03',\n",
      "              'listing_id': '977395984065981849',\n",
      "              'id': '1060927930986644037',\n",
      "              'reviewer_id': '56179331',\n",
      "              'reviewer_name': 'Sean',\n",
      "              'comments': 'I fear it’s kind of a “you get what you pay for” '\n",
      "                          'situation. The place is very dirty, especially the '\n",
      "                          'common rooms where the cupboards are caked and '\n",
      "                          'grease and stickiness. To the point that even '\n",
      "                          'opening a drawer or grabbing a handle requires '\n",
      "                          'washing your hands after. The bathroom has moldy '\n",
      "                          'rugs and had cockroaches. There’s occasionally a '\n",
      "                          'smell. The internet is very hit or miss and the '\n",
      "                          'temperature fluxuates a lot in the '\n",
      "                          'apartment.<br/>To their credit though, the bedrooms '\n",
      "                          'are clean enough and pretty comfortable. The floors '\n",
      "                          'a bit dusty but I kinda just dusted that up. The '\n",
      "                          'neighborhood itself is nice if you’re looking for '\n",
      "                          'something that feels quieter than the rest of the '\n",
      "                          'city. I enjoyed having plenty of stores, '\n",
      "                          'restaurants, and even a movie theater in walking '\n",
      "                          'distance while still being on a quiet residential '\n",
      "                          'street. That said, for commuting it does take about '\n",
      "                          'an hour to get to Manhattan.<br/>Like I said, it is '\n",
      "                          'extremelly cheap but that means it’s not '\n",
      "                          'well-maintained; so you get what you pay for.'}]}\n"
     ]
    }
   ],
   "source": [
    "def convert_lwc_to_json(doc):\n",
    "    doc_new = {}\n",
    "    doc_new['_id'] = str(doc['_id'])\n",
    "    for key in ['id', 'name', 'host_id', 'host_name', 'neighbourhood_group', 'neighbourhood', 'latitude', 'longitude', 'room_type', 'price', 'minimum_nights', 'number_of_reviews']:\n",
    "        doc_new[key] = doc[key] if not pd.isna(doc[key]) else None\n",
    "    doc_new['last_review'] = doc['last_review'].strftime('%Y-%m-%d') if not pd.isna(doc['last_review']) else None\n",
    "    for key in ['reviews_per_month', 'calculated_host_listings_count', 'availability_365', 'number_of_reviews_ltm', 'license']:\n",
    "        doc_new[key] = doc[key] if not pd.isna(doc[key]) else None\n",
    "    dlist = []\n",
    "    for d in doc['reviews']:\n",
    "        d_new = {}\n",
    "        d_new['_id'] = str(d['_id'])\n",
    "        d_new['date'] = d['date'].strftime('%Y-%m-%d') if not pd.isna(d['date']) else None\n",
    "        for key in ['listing_id', 'id', 'reviewer_id', 'reviewer_name', 'comments']:\n",
    "            d_new[key] = d[key] if not pd.isna(d[key]) else None\n",
    "        dlist.append(d_new)\n",
    "    doc_new['reviews'] = dlist\n",
    "    return doc_new\n",
    "\n",
    "pprint.pp(convert_lwc_to_json(doc))"
   ]
  },
  {
   "cell_type": "code",
   "execution_count": 53,
   "id": "a28bfcd7-7ae1-42dd-aa5e-d8214fcd51a6",
   "metadata": {},
   "outputs": [
    {
     "name": "stdout",
     "output_type": "stream",
     "text": [
      "39202\n",
      "43\n"
     ]
    }
   ],
   "source": [
    "print(db.listings_with_reviews_m.count_documents({}))\n",
    "\n",
    "cursor = db.listings_with_reviews_m.find({'id' : {'$regex' : '^1000.*$'}})\n",
    "    \n",
    "l = list(cursor)\n",
    "print(len(l))"
   ]
  },
  {
   "cell_type": "code",
   "execution_count": 54,
   "id": "ee1ef8cc-a23a-49ca-b1e6-68a507742262",
   "metadata": {},
   "outputs": [
    {
     "name": "stdout",
     "output_type": "stream",
     "text": [
      "43\n"
     ]
    }
   ],
   "source": [
    "output = []\n",
    "\n",
    "for doc in l:\n",
    "    output.append(convert_lwc_to_json(doc))\n",
    "\n",
    "print(len(output))"
   ]
  },
  {
   "cell_type": "code",
   "execution_count": 55,
   "id": "def5596a-55eb-4f47-aedb-ca4a12d41352",
   "metadata": {},
   "outputs": [],
   "source": [
    "# Writing dict to a json file into a json file in a subdirectory\n",
    "# Also putting this function into my util.py\n",
    "def write_dict_to_dir_json(dict, dir, filename):\n",
    "    with open(dir + '/' + filename, 'w') as fp:\n",
    "        json.dump(dict, fp)\n",
    "\n",
    "dir = '/Users/Nfaith21/ECS 116'\n",
    "filename = 'listings_with_reviews_m_subset_1000.json'\n",
    "write_dict_to_dir_json(output, dir, filename)\n",
    "\n"
   ]
  }
 ],
 "metadata": {
  "kernelspec": {
   "display_name": "Python 3 (ipykernel)",
   "language": "python",
   "name": "python3"
  },
  "language_info": {
   "codemirror_mode": {
    "name": "ipython",
    "version": 3
   },
   "file_extension": ".py",
   "mimetype": "text/x-python",
   "name": "python",
   "nbconvert_exporter": "python",
   "pygments_lexer": "ipython3",
   "version": "3.11.7"
  }
 },
 "nbformat": 4,
 "nbformat_minor": 5
}
