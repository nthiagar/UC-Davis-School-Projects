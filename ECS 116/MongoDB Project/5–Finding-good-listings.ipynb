{
 "cells": [
  {
   "cell_type": "code",
   "execution_count": 1,
   "metadata": {},
   "outputs": [],
   "source": [
    "import sys\n",
    "import json\n",
    "import csv\n",
    "import yaml\n",
    "\n",
    "import importlib\n",
    "\n",
    "import pandas as pd\n",
    "import numpy as np\n",
    "import math\n",
    "\n",
    "import matplotlib as mpl\n",
    "import matplotlib.pyplot as plt\n",
    "import os\n",
    "from dotenv import load_dotenv\n",
    "\n",
    "from datetime import time\n",
    "from datetime import date\n",
    "from datetime import datetime\n",
    "# with the above choices, the imported datetime.time(2023,07,01) is recognized\n",
    "# from datetime import date\n",
    "# from datetime import datetime\n",
    "\n",
    "import pprint\n",
    "\n",
    "import psycopg2\n",
    "from sqlalchemy import create_engine, text as sql_text\n",
    "\n",
    "# Create an utilities file util.py in a folder benchmarking and import it\n",
    "sys.path.append('/Users/Nfaith21/ECS 116/')\n",
    "# import util as util\n",
    "import util_2 as util"
   ]
  },
  {
   "cell_type": "code",
   "execution_count": 2,
   "metadata": {},
   "outputs": [],
   "source": [
    "from pymongo import MongoClient\n",
    "\n",
    "client = MongoClient()"
   ]
  },
  {
   "cell_type": "code",
   "execution_count": 3,
   "metadata": {},
   "outputs": [
    {
     "name": "stdout",
     "output_type": "stream",
     "text": [
      "The list of all databases currently in the MongoDB client is:\n",
      "['admin', 'airbnb', 'company', 'config', 'local', 'test']\n",
      "\n",
      "The list of all collections in the airbnb database is:\n",
      "['newlistings', 'listings', 'listings_with_reviews_m', 'listings_with_reviews_and_cal', 'calendar', 'listings_with_calendar', 'reviews']\n"
     ]
    }
   ],
   "source": [
    "# I have (or will have) a database \"airbnb\"\n",
    "db = client.airbnb\n",
    "\n",
    "\n",
    "print('The list of all databases currently in the MongoDB client is:')\n",
    "print(client.list_database_names())\n",
    "\n",
    "print('\\nThe list of all collections in the airbnb database is:')\n",
    "print(db.list_collection_names())"
   ]
  },
  {
   "cell_type": "markdown",
   "metadata": {},
   "source": [
    "### Query 5 pos"
   ]
  },
  {
   "cell_type": "code",
   "execution_count": 6,
   "metadata": {},
   "outputs": [],
   "source": [
    "superlative_words = [\n",
    "    'astounding',\n",
    "    'amazing',\n",
    "    'awesome',\n",
    "    'excellent',\n",
    "    'exceptional',\n",
    "    'extraordinary',\n",
    "    'fantastic',\n",
    "    'great',\n",
    "    'magnificent',\n",
    "    'splendid',\n",
    "    'wonderful'\n",
    "]"
   ]
  },
  {
   "cell_type": "code",
   "execution_count": 7,
   "metadata": {},
   "outputs": [],
   "source": [
    "pos_regex = f\"(?i)[\\S\\s]*{'|'.join(superlative_words)}[\\S\\s]*\""
   ]
  },
  {
   "cell_type": "code",
   "execution_count": 8,
   "metadata": {},
   "outputs": [],
   "source": [
    "pos_condition = {\n",
    "    'reviews.comments':\n",
    "        {\n",
    "            '$regex': pos_regex\n",
    "        }\n",
    "}"
   ]
  },
  {
   "cell_type": "code",
   "execution_count": 9,
   "metadata": {},
   "outputs": [
    {
     "name": "stdout",
     "output_type": "stream",
     "text": [
      "The time taken for the selection was 0.000399 seconds.\n",
      "\n",
      "The time taken to create the list was 85.399036 seconds.\n"
     ]
    }
   ],
   "source": [
    "time1 = datetime.now()\n",
    "result = db.listings_with_reviews_and_cal.find(pos_condition)\n",
    "time2 = datetime.now()\n",
    "print(f\"The time taken for the selection was {util.time_diff(time1,time2)} seconds.\")\n",
    "time3 = datetime.now()\n",
    "l = list(result)\n",
    "time4 = datetime.now()\n",
    "print(f\"\\nThe time taken to create the list was {util.time_diff(time3,time4)} seconds.\")"
   ]
  },
  {
   "cell_type": "code",
   "execution_count": 10,
   "metadata": {},
   "outputs": [
    {
     "name": "stdout",
     "output_type": "stream",
     "text": [
      "25196\n"
     ]
    }
   ],
   "source": [
    "print(len(l))"
   ]
  },
  {
   "cell_type": "markdown",
   "metadata": {},
   "source": [
    "### Query 5 neg"
   ]
  },
  {
   "cell_type": "code",
   "execution_count": 11,
   "metadata": {},
   "outputs": [],
   "source": [
    "super_negative_words = [\n",
    "    'aweful',\n",
    "    'horrible',\n",
    "    'terrible'\n",
    "]"
   ]
  },
  {
   "cell_type": "code",
   "execution_count": 12,
   "metadata": {},
   "outputs": [],
   "source": [
    "neg_regex = f\"(?i)[\\S\\s]*{'|'.join(super_negative_words)}[\\S\\s]*\""
   ]
  },
  {
   "cell_type": "code",
   "execution_count": 13,
   "metadata": {},
   "outputs": [],
   "source": [
    "neg_condition = {\n",
    "    'reviews.comments':\n",
    "        {\n",
    "            '$regex': neg_regex\n",
    "        }\n",
    "}"
   ]
  },
  {
   "cell_type": "code",
   "execution_count": 14,
   "metadata": {},
   "outputs": [
    {
     "name": "stdout",
     "output_type": "stream",
     "text": [
      "The time taken for the selection was 0.003196 seconds.\n",
      "\n",
      "The time taken to create the list was 799.393482 seconds.\n"
     ]
    }
   ],
   "source": [
    "time1 = datetime.now()\n",
    "result = db.listings_with_reviews_and_cal.find(neg_condition)\n",
    "time2 = datetime.now()\n",
    "print(f\"The time taken for the selection was {util.time_diff(time1,time2)} seconds.\")\n",
    "time3 = datetime.now()\n",
    "l = list(result)\n",
    "time4 = datetime.now()\n",
    "print(f\"\\nThe time taken to create the list was {util.time_diff(time3,time4)} seconds.\")"
   ]
  },
  {
   "cell_type": "code",
   "execution_count": 15,
   "metadata": {},
   "outputs": [
    {
     "name": "stdout",
     "output_type": "stream",
     "text": [
      "1672\n"
     ]
    }
   ],
   "source": [
    "print(len(l))"
   ]
  },
  {
   "cell_type": "markdown",
   "metadata": {},
   "source": [
    "### Query 6 pos"
   ]
  },
  {
   "cell_type": "code",
   "execution_count": 16,
   "metadata": {},
   "outputs": [],
   "source": [
    "pos_6_condition = {\n",
    "    'reviews.comments':\n",
    "        {\n",
    "            '$regex': pos_regex\n",
    "        },\n",
    "    'dates_list':\n",
    "        {\n",
    "            '$elemMatch':\n",
    "                {\n",
    "                    'date':\n",
    "                        {\n",
    "                            '$gte': datetime(2025,2,1)\n",
    "                        }\n",
    "                }\n",
    "        },\n",
    "    'average_price':\n",
    "        {\n",
    "            '$lte': 200\n",
    "        } \n",
    "}"
   ]
  },
  {
   "cell_type": "code",
   "execution_count": 17,
   "metadata": {},
   "outputs": [
    {
     "name": "stdout",
     "output_type": "stream",
     "text": [
      "The time taken for the selection was 0.002243 seconds.\n",
      "\n",
      "The time taken to create the list was 80.185633 seconds.\n"
     ]
    }
   ],
   "source": [
    "time1 = datetime.now()\n",
    "result = db.listings_with_reviews_and_cal.find(pos_6_condition)\n",
    "time2 = datetime.now()\n",
    "print(f\"The time taken for the selection was {util.time_diff(time1,time2)} seconds.\")\n",
    "time3 = datetime.now()\n",
    "l = list(result)\n",
    "time4 = datetime.now()\n",
    "print(f\"\\nThe time taken to create the list was {util.time_diff(time3,time4)} seconds.\")"
   ]
  },
  {
   "cell_type": "code",
   "execution_count": 18,
   "metadata": {},
   "outputs": [
    {
     "name": "stdout",
     "output_type": "stream",
     "text": [
      "19228\n"
     ]
    }
   ],
   "source": [
    "print(len(l))"
   ]
  },
  {
   "cell_type": "markdown",
   "metadata": {},
   "source": [
    "### Query 6 neg"
   ]
  },
  {
   "cell_type": "code",
   "execution_count": 19,
   "metadata": {},
   "outputs": [],
   "source": [
    "neg_6_condition = {\n",
    "    'reviews.comments':\n",
    "        {\n",
    "            '$regex': neg_regex\n",
    "        },\n",
    "    'dates_list':\n",
    "        {\n",
    "            '$elemMatch':\n",
    "                {\n",
    "                    'date':\n",
    "                        {\n",
    "                            '$gte': datetime(2025,2,1)\n",
    "                        }\n",
    "                }\n",
    "        },\n",
    "    'average_price':\n",
    "        {\n",
    "            '$lte': 200\n",
    "        } \n",
    "}"
   ]
  },
  {
   "cell_type": "code",
   "execution_count": 20,
   "metadata": {},
   "outputs": [
    {
     "name": "stdout",
     "output_type": "stream",
     "text": [
      "The time taken for the selection was 0.005397 seconds.\n",
      "\n",
      "The time taken to create the list was 590.868299 seconds.\n"
     ]
    }
   ],
   "source": [
    "time1 = datetime.now()\n",
    "result = db.listings_with_reviews_and_cal.find(neg_6_condition)\n",
    "time2 = datetime.now()\n",
    "print(f\"The time taken for the selection was {util.time_diff(time1,time2)} seconds.\")\n",
    "time3 = datetime.now()\n",
    "l = list(result)\n",
    "time4 = datetime.now()\n",
    "print(f\"\\nThe time taken to create the list was {util.time_diff(time3,time4)} seconds.\")"
   ]
  },
  {
   "cell_type": "code",
   "execution_count": 21,
   "metadata": {},
   "outputs": [
    {
     "name": "stdout",
     "output_type": "stream",
     "text": [
      "1281\n"
     ]
    }
   ],
   "source": [
    "print(len(l))"
   ]
  },
  {
   "cell_type": "markdown",
   "metadata": {},
   "source": [
    "### Set up index"
   ]
  },
  {
   "cell_type": "code",
   "execution_count": 22,
   "metadata": {},
   "outputs": [
    {
     "name": "stdout",
     "output_type": "stream",
     "text": [
      "The time taken to create the index was 30.892075 seconds.\n"
     ]
    }
   ],
   "source": [
    "time1 = datetime.now()\n",
    "index_name = db.listings_with_reviews_and_cal.create_index([('reviews.comments', 'text')])\n",
    "time2 = datetime.now()\n",
    "print(f\"The time taken to create the index was {util.time_diff(time1,time2)} seconds.\")"
   ]
  },
  {
   "cell_type": "markdown",
   "metadata": {},
   "source": [
    "### Query 7 pos"
   ]
  },
  {
   "cell_type": "code",
   "execution_count": 23,
   "metadata": {},
   "outputs": [],
   "source": [
    "pos_condition_ind = {\n",
    "    '$text':\n",
    "        {\n",
    "            '$search': (' ').join(superlative_words)\n",
    "        }\n",
    "}"
   ]
  },
  {
   "cell_type": "code",
   "execution_count": 24,
   "metadata": {},
   "outputs": [
    {
     "name": "stdout",
     "output_type": "stream",
     "text": [
      "The time taken for the selection was 0.004541 seconds.\n",
      "\n",
      "The time taken to create the list was 98.252213 seconds.\n"
     ]
    }
   ],
   "source": [
    "time1 = datetime.now()\n",
    "result = db.listings_with_reviews_and_cal.find(pos_condition_ind)\n",
    "time2 = datetime.now()\n",
    "print(f\"The time taken for the selection was {util.time_diff(time1,time2)} seconds.\")\n",
    "time3 = datetime.now()\n",
    "l = list(result)\n",
    "time4 = datetime.now()\n",
    "print(f\"\\nThe time taken to create the list was {util.time_diff(time3,time4)} seconds.\")"
   ]
  },
  {
   "cell_type": "code",
   "execution_count": 25,
   "metadata": {},
   "outputs": [
    {
     "name": "stdout",
     "output_type": "stream",
     "text": [
      "25197\n"
     ]
    }
   ],
   "source": [
    "print(len(l))"
   ]
  },
  {
   "cell_type": "markdown",
   "metadata": {},
   "source": [
    "### Query 7 neg"
   ]
  },
  {
   "cell_type": "code",
   "execution_count": 26,
   "metadata": {},
   "outputs": [],
   "source": [
    "neg_condition_ind = {\n",
    "    '$text':\n",
    "        {\n",
    "            '$search': (' ').join(super_negative_words)\n",
    "        }\n",
    "}"
   ]
  },
  {
   "cell_type": "code",
   "execution_count": 27,
   "metadata": {},
   "outputs": [
    {
     "name": "stdout",
     "output_type": "stream",
     "text": [
      "The time taken for the selection was 0.003816 seconds.\n",
      "\n",
      "The time taken to create the list was 71.607567 seconds.\n"
     ]
    }
   ],
   "source": [
    "time1 = datetime.now()\n",
    "result = db.listings_with_reviews_and_cal.find(neg_condition_ind)\n",
    "time2 = datetime.now()\n",
    "print(f\"The time taken for the selection was {util.time_diff(time1,time2)} seconds.\")\n",
    "time3 = datetime.now()\n",
    "l = list(result)\n",
    "time4 = datetime.now()\n",
    "print(f\"\\nThe time taken to create the list was {util.time_diff(time3,time4)} seconds.\")"
   ]
  },
  {
   "cell_type": "code",
   "execution_count": 28,
   "metadata": {},
   "outputs": [
    {
     "name": "stdout",
     "output_type": "stream",
     "text": [
      "1930\n"
     ]
    }
   ],
   "source": [
    "print(len(l))"
   ]
  }
 ],
 "metadata": {
  "kernelspec": {
   "display_name": "Python 3 (ipykernel)",
   "language": "python",
   "name": "python3"
  },
  "language_info": {
   "codemirror_mode": {
    "name": "ipython",
    "version": 3
   },
   "file_extension": ".py",
   "mimetype": "text/x-python",
   "name": "python",
   "nbconvert_exporter": "python",
   "pygments_lexer": "ipython3",
   "version": "3.11.7"
  }
 },
 "nbformat": 4,
 "nbformat_minor": 4
}
